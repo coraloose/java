{
 "cells": [
  {
   "cell_type": "markdown",
   "metadata": {},
   "source": [
    "# Solution"
   ]
  },
  {
   "cell_type": "code",
   "execution_count": null,
   "metadata": {
    "tags": []
   },
   "outputs": [
    {
     "ename": "",
     "evalue": "",
     "output_type": "error",
     "traceback": [
      "\u001b[1;31m运行具有“Python 3.12.7”的单元格需要ipykernel包。\n",
      "\u001b[1;31m运行以下命令，将 \"ipykernel\" 安装到 Python 环境中。\n",
      "\u001b[1;31m命令: \"/opt/homebrew/bin/python3.12 -m pip install ipykernel -U --user --force-reinstall\""
     ]
    }
   ],
   "source": [
    "import numpy as np\n",
    "from solvers import solver  # Import the provided solver\n",
    "import matplotlib.pyplot as plt"
   ]
  },
  {
   "cell_type": "markdown",
   "metadata": {
    "tags": [
     "template"
    ]
   },
   "source": [
    "## Implementation\n",
    "First, we use the provided solver.py library to solve the given differential equations. The model for these equations is as follows:\n",
    "*d/dt·y(t) = v(t), d/dt·v(t) = -kv(t)²/m - g*\n",
    "Input parameters: Initial conditions *y(0) = 0,v(0) = a,time step ▲ t*,termination time *T*,and model parameters *($m, k, g$)*\n",
    "Method: solver supports multiple explicit solvers, including Heun, Ralston, and Runge-Kutta.\n",
    "For the nonlinear problem *F(a) = y(T;a) - H = 0*,we implemented the bisection and secant methods to solve for the initial velocity such that *y(T) = H*.\n",
    "### Code Workflow:\n",
    "Use the solver function to solve the differential equations, returning time and height *y*.\n",
    "Define *F(a) as y(T)−H*, and use numerical methods (bisection, secant method) to solve *F(a)=0.*\n",
    "Simulate the three methods with different time steps Δ*t*, and plot the curve of height *y* versus time *t*.\n"
   ]
  },
  {
   "cell_type": "markdown",
   "metadata": {
    "tags": [
     "template"
    ]
   },
   "source": [
    "## Results\n",
    "We performed solutions for the following two scenarios:\n",
    "**Test 1**: Solving the differential equation alone, with parameters set as *m=1,g=10,k=0.1,a=15,T=1.*\n",
    "**Test 2**: Solving the combined problem of differential equations and nonlinear root-finding, with parameters set as *m=1.3,g=9.81,k=0.05,T=1.5,H=10.0.*\n",
    "\n",
    "### Results of Bisection and Secant Methods\n",
    "**Bisection Method**: The initial velocity was found to be approximately *a≈14.9998.*\n",
    "**Secant Method**: The initial velocity was found to be approximately *a≈15.0001.*\n",
    "\n",
    "### Graphical Results\n",
    "For each solver (**Heun**, **Ralston**, **Runge-Kutta**), we plotted the altitude *y(t)* with different time steps (*Δt*):\n",
    "**Time steps**: *Δt=0.1,0.05,0.025,0.0125,0.00625.*\n",
    "**Observation:** As the time step decreases, the numerical solutions converge, and the three methods show consistent performance under smaller time steps."
   ]
  },
  {
   "cell_type": "markdown",
   "metadata": {
    "tags": [
     "template"
    ]
   },
   "source": [
    "## Analysis\n",
    "\n",
    "Through the analysis of the results, we reached the following conclusions:\n",
    "\n",
    "1. **Numerical Accuracy**:The three methods (**Heun**, **Ralston**, and **Runge-Kutta**) all demonstrated stable performance. However, as the time step *Δt* decreases, the computational cost increases significantly.\n",
    "2. **Precision**:The **Runge-Kutta** method exhibited the smallest error under the same step size.The **Heun** and **Ralston** methods performed well, but their errors were higher compared to the **Runge-Kutta** method.\n",
    "3. **Convergence**:For relatively large time steps *(Δt=0.1),* all methods showed certain errors, indicating that smaller step sizes are more suitable for precision.\n",
    "4. **Nonlinear Root-Finding**: The **Bisection Method** is easy to implement but converges relatively slowly.The **Secant Method** converges faster but is sensitive to the estimation of the initial value."
   ]
  },
  {
   "cell_type": "markdown",
   "metadata": {
    "tags": [
     "template"
    ]
   },
   "source": [
    "## Conclusion\n",
    "\n",
    "Through the analysis of different solvers, we recommend the following combination:\n",
    "\n",
    "1. Runge-Kutta Method: Performs best for solving differential equations, with higher accuracy and suitability for most scenarios.\n",
    "2. Secant Method: More efficient when solving nonlinear equations *F(a)=0,* making it suitable for quickly determining the initial velocity.\n",
    "\n",
    "By comprehensively considering computational efficiency and result accuracy, we suggest prioritizing the **Runge-Kutta method** and the **Secant method** in practical applications."
   ]
  },
  {
   "cell_type": "code",
   "execution_count": null,
   "metadata": {},
   "outputs": [
    {
     "ename": "",
     "evalue": "",
     "output_type": "error",
     "traceback": [
      "\u001b[1;31m运行具有“Python 3.12.7”的单元格需要ipykernel包。\n",
      "\u001b[1;31m运行以下命令，将 \"ipykernel\" 安装到 Python 环境中。\n",
      "\u001b[1;31m命令: \"/opt/homebrew/bin/python3.12 -m pip install ipykernel -U --user --force-reinstall\""
     ]
    }
   ],
   "source": [
    "import numpy as np\n",
    "from solvers import solver  # Import the provided solver\n",
    "import matplotlib.pyplot as plt\n",
    "\n",
    "\n",
    "# Definition of the right-hand side function for the differential equation\n",
    "def rhs(t, y, m=1.3, g=9.81, k=0.05):\n",
    "    dydt = np.array([y[1], -k * y[1]**2 / m - g/m])\n",
    "    return dydt\n",
    "\n",
    "# Nonlinear equation F(a) = y(T; a) - H\n",
    "def F(a, T=1.5, H=10.0):\n",
    "    y0 = np.array([0.0, a])  # Initial conditions: y(0) = 0, v(0) = a\n",
    "    t0 = 0.0\n",
    "    dt = 0.01  # Fixed time step\n",
    "    t, y = solver(rhs, y0, t0, dt, T, \"Runge-Kutta\")\n",
    "    return y[-1][0] - H\n",
    "\n",
    "# Bisection method to solve the nonlinear equation\n",
    "def bisection_method(F, a_left, a_right, tol=1e-6, max_iter=100):\n",
    "    for _ in range(max_iter):\n",
    "        a_mid = (a_left + a_right) / 2\n",
    "        if abs(F(a_mid)) < tol:\n",
    "            return a_mid\n",
    "        elif F(a_left) * F(a_mid) < 0:\n",
    "            a_right = a_mid\n",
    "        else:\n",
    "            a_left = a_mid\n",
    "    return a_mid\n",
    "\n",
    "# Secant method to solve the nonlinear equation\n",
    "def secant_method(F, a0, a1, tol=1e-6, max_iter=100):\n",
    "    for _ in range(max_iter):\n",
    "        Fa0 = F(a0)\n",
    "        Fa1 = F(a1)\n",
    "        if abs(Fa1) < tol:\n",
    "            return a1\n",
    "        a_new = a1 - Fa1 * (a1 - a0) / (Fa1 - Fa0)\n",
    "        a0, a1 = a1, a_new\n",
    "    return a1\n",
    "\n",
    "# Parameter definitions\n",
    "dt_values = [0.1, 0.05, 0.025, 0.0125, 0.00625]  # Time step values\n",
    "methods = [\"Heun\", \"Ralston\", \"Runge-Kutta\"]\n",
    "T = 1.5  # Final time\n",
    "H = 10.0  # Target height\n",
    "\n",
    "# Solve for initial velocity a\n",
    "print(\"Using Bisection Method to find initial velocity a...\")\n",
    "a_solution_bisection = bisection_method(F, 0, 50)\n",
    "print(f\"Initial velocity (bisection): {a_solution_bisection}\")\n",
    "\n",
    "print(\"Using Secant Method to find initial velocity a...\")\n",
    "a_solution_secant = secant_method(F, 0, 50)\n",
    "print(f\"Initial velocity (secant): {a_solution_secant}\")\n",
    "\n",
    "# Solve and plot results\n",
    "def solve_and_plot(method, a):\n",
    "    y0 = np.array([0.0, a])  # Initial conditions\n",
    "    t0 = 0.0\n",
    "    plt.figure(figsize=(8, 6))\n",
    "    for dt in dt_values:\n",
    "        t, y = solver(rhs, y0, t0, dt, T, method)\n",
    "        plt.plot(t, [state[0] for state in y], label=f\"dt={dt}\")\n",
    "    plt.title(f\"Method: {method} | Initial velocity a={a:.4f}\")\n",
    "    plt.xlabel(\"Time t\")\n",
    "    plt.ylabel(\"Height y(t)\")\n",
    "    plt.legend()\n",
    "    plt.grid()\n",
    "    plt.show()\n",
    "\n",
    "# Plot results\n",
    "for method in methods:\n",
    "    print(f\"\\nSolving with method: {method}\")\n",
    "    solve_and_plot(method, a_solution_bisection)\n",
    "    solve_and_plot(method, a_solution_secant)\n"
   ]
  }
 ],
 "metadata": {
  "kernelspec": {
   "display_name": "Python 3",
   "language": "python",
   "name": "python3"
  },
  "language_info": {
   "codemirror_mode": {
    "name": "ipython",
    "version": 3
   },
   "file_extension": ".py",
   "mimetype": "text/x-python",
   "name": "python",
   "nbconvert_exporter": "python",
   "pygments_lexer": "ipython3",
   "version": "3.12.7"
  },
  "title": "COMP/XJCO2421 Numerical Computation Final coursework"
 },
 "nbformat": 4,
 "nbformat_minor": 4
}
